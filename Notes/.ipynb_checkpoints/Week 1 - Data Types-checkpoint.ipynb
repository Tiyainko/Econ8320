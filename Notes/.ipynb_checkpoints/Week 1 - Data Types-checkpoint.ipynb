{
 "cells": [
  {
   "cell_type": "markdown",
   "metadata": {},
   "source": [
    "## Week 1 - Data Types"
   ]
  },
  {
   "cell_type": "markdown",
   "metadata": {},
   "source": [
    "### Why do I need to know this?\n",
    "\n",
    "Programming is a way to allow us as humans to manipulate information (data) on a scale much larger than we would otherwise be able to handle. Speaking anecdotally, on a good day my brain is able to handle one mathematical operation per second. I can remember a few things at once, and a few more things if I spend a while memorizing them. On the other hand, my laptop can handle millions of mathematical operations per second, and can \"memorize\" the contents of a spreadsheet fast enough that to me it feels instantaneous. When we use Python, we are accessing the amped up computational power provided by our computers to enable us to focus on thinking critically, and letting our computer handle the rest.\n",
    "\n",
    "How do computers handle data? At the most basic level, it all gets digested into the same form: 1s and 0s. Were we to attempt a very complete treatment of information and computation, we would need to start there. Suffice it to say that computers need all information to be concrete, and that information that cannot be quantified or written in a fixed form is no good.\n",
    "\n",
    "Instead of starting with binary values (the 1s and 0s above), we have the privilege of experiencing our interactions with computers through a high-level programming language: Python. High-level is an indication that the programming language is closer to a human-readable form than a computer-readable form. While we are working furiously to do our work writing in Python, the computer is translating everything that we say (in Python) to machine-speak. High-level code is slower to run than low-level (easier for machines to translate) code, but we accept that tradeoff in order to minimize the time and effort we spend in writing our code.\n",
    "\n",
    "Writing Python code is MUCH easier than writing code in C++. Trust me."
   ]
  },
  {
   "cell_type": "markdown",
   "metadata": {},
   "source": [
    "### Then how do I start?\n",
    "\n",
    "The first thing that we need to understand when we start to interact with Python is the language's ability to represent different kinds of information. The types of information that can be stored, and the ways in which we can store them, inform the choices that we will make as we begin to programmatically handle the information that is available to us. Think of each method of storing information as storage bins like you might find in a kitchen: one bin is intended to hold sugar, another flour, and another rice. Sure, you could insist on putting rice in the sugar bin, but the next chef to use the kitchen might not appreciate your choice. In programming, we should look for the appropriate storage bin for the information that we are dealing with in any specific context\n",
    "\n",
    "In programming, we label the different storage bins **data types**.\n",
    "\n",
    "A data type is an **object** (we will discuss this more later) that is designed to handle a specific kind of information."
   ]
  },
  {
   "cell_type": "code",
   "execution_count": null,
   "metadata": {},
   "outputs": [],
   "source": []
  }
 ],
 "metadata": {
  "kernelspec": {
   "display_name": "Python 3",
   "language": "python",
   "name": "python3"
  },
  "language_info": {
   "codemirror_mode": {
    "name": "ipython",
    "version": 3
   },
   "file_extension": ".py",
   "mimetype": "text/x-python",
   "name": "python",
   "nbconvert_exporter": "python",
   "pygments_lexer": "ipython3",
   "version": "3.7.2"
  }
 },
 "nbformat": 4,
 "nbformat_minor": 2
}
