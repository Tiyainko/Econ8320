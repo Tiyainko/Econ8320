{
 "cells": [
  {
   "cell_type": "markdown",
   "metadata": {},
   "source": [
    "# Week 2 - Loops, Conditions, and Functions"
   ]
  },
  {
   "cell_type": "markdown",
   "metadata": {},
   "source": [
    "## Why do I need to know this?\n",
    "\n",
    "Programming, at it's heart, is about being able to reduce the amount of work it takes to accomplish a task. In manufacturing, this would look like building a machine that can accomplish portions of a task with less human effort. By reducing the amount of work that we have to put into a process, we free ourselves up to focus on the tasks that are not so easily accomplished by anyone besides a competent human being (us). \n",
    "\n",
    "Think of a program as really tiny machinery. Your goal is to make a machine (in code) that can accomplish routine tasks for you. When you're done, you get to focus on other important tasks that demand your attention. For example, you might want to spend your time working on a forecast model, but first you need to check to make sure that all values in your time series are valid. You COULD just open up your data, and look at every record to make sure that each fits the rules that valid data should follow. Or you could write a program that can check every line for you, and either alert you to problems, or possibly fix them without you even having to be involved. Then, all of your time is freed for the forecasting model.\n",
    "\n",
    "Last week we talked about some of the types of information that we can store in Python. This week, we will start to learn about the tools that are baked into Python that allow us to begin the process of automation."
   ]
  },
  {
   "cell_type": "markdown",
   "metadata": {},
   "source": [
    "## Conditions\n",
    "\n",
    "We have used conditions a few times already, but it is time to talk seriously about conditions and logical statements in Python. If you haven't noticed this yet, you will soon note that Python (and all other programming languages) are VERY literal. Things that we don't intend will occur whenever we assume that a computer will interpret an ambiguous statement in a single anticipated (by humans) way. Eventually, you will get used to being very careful when describing conditions in your code, and these problems will become less of an issue.\n",
    "\n",
    "In Python, we have keywords that we can use to express different kinds of logic. Let's get started by talking about `if` statements. `if` statements function in Python pretty much the same way that they do in English: you state a condition, and then explain what should happen if that condition is met. You can then list alternative outcomes with the conditions that should be met prior to implementing those contingency plans. Finally, you can list what to do in any other outcomes that were not explicity described. Let's try this out:"
   ]
  },
  {
   "cell_type": "code",
   "execution_count": null,
   "metadata": {},
   "outputs": [],
   "source": []
  },
  {
   "cell_type": "code",
   "execution_count": null,
   "metadata": {},
   "outputs": [],
   "source": []
  },
  {
   "cell_type": "code",
   "execution_count": null,
   "metadata": {},
   "outputs": [],
   "source": []
  },
  {
   "cell_type": "markdown",
   "metadata": {},
   "source": [
    "## Loops"
   ]
  },
  {
   "cell_type": "markdown",
   "metadata": {},
   "source": [
    "Just a minute ago, we thought about a problem where we might need to check each record in a data set for valid entries. If we want to accomplish this kind of task, we need to write code that will check the first line, then the second line, then the third line, etc. We can do this by hand, of course. Imagine a list of entries stored in the variable `forecastData`, where we need to make sure that each record is above 40 but below 50. Checking each value manually for validity might look something like the code below:"
   ]
  },
  {
   "cell_type": "code",
   "execution_count": 2,
   "metadata": {},
   "outputs": [
    {
     "name": "stdout",
     "output_type": "stream",
     "text": [
      "True\n",
      "True\n",
      "False\n",
      "True\n",
      "False\n"
     ]
    }
   ],
   "source": [
    "forecastData = [49.5, 40.2, 53.7, 48.9, 51.0]\n",
    "\n",
    "if (forecastData[0] > 40) & (forecastData[0] < 50):\n",
    "    print(True)\n",
    "else:\n",
    "    print(False)\n",
    "    \n",
    "if (forecastData[1] > 40) & (forecastData[1] < 50):\n",
    "    print(True)\n",
    "else:\n",
    "    print(False)\n",
    "    \n",
    "if (forecastData[2] > 40) & (forecastData[2] < 50):\n",
    "    print(True)\n",
    "else:\n",
    "    print(False)\n",
    "    \n",
    "if (forecastData[3] > 40) & (forecastData[3] < 50):\n",
    "    print(True)\n",
    "else:\n",
    "    print(False)\n",
    "    \n",
    "if (forecastData[4] > 40) & (forecastData[4] < 50):\n",
    "    print(True)\n",
    "else:\n",
    "    print(False)"
   ]
  },
  {
   "cell_type": "markdown",
   "metadata": {},
   "source": [
    "That is a LOT of redundant code. Does it work? Sure. But what happens when I need to fix it? As I typed those lines, I did some copying and pasting, and then noticed that I made a few typos. At that point, I had to fix the typos and then copy and paste the corrected code again. Not ideal, but functional. Then I did it again! And again, it was frustrating to fix each of the iterations of the code.\n",
    "\n",
    "While convenience is important, it is also much more likely when I am copying and pasting code over and over that I will make mistakes than if I just have to write one version of the code that would work for each of the lines of my list.\n",
    "\n",
    "What we are doing when we write logic like the code above is called **looping**. We are writing code that will iteratively work its way through each specified record, and will **loop** through the same logic for each of those records. Wouldn't it be easier if we could just specify the pattern of behavior we expect, and not have to walk our program through each specific iteration?\n",
    "\n",
    "Yes. Yes it would.\n",
    "\n",
    "### For Loops\n",
    "\n",
    "The most common type of loop used in Python is a `for` loop. They are convenient and safe, as you will soon learn. Let's write a loop for the problem above."
   ]
  },
  {
   "cell_type": "code",
   "execution_count": 3,
   "metadata": {},
   "outputs": [
    {
     "name": "stdout",
     "output_type": "stream",
     "text": [
      "True\n",
      "True\n",
      "False\n",
      "True\n",
      "False\n"
     ]
    }
   ],
   "source": [
    "forecastData = [49.5, 40.2, 53.7, 48.9, 51.0]\n",
    "\n",
    "for i in forecastData:\n",
    "    if (i > 40) & (i < 50):\n",
    "        print(True)\n",
    "    else:\n",
    "        print(False)"
   ]
  },
  {
   "cell_type": "markdown",
   "metadata": {},
   "source": [
    "That was way easier! But really, what did we just do?\n",
    "\n",
    "The structure of our `for` loop above is the standard format. It translates to English in the following way: \"For every element (call it `i`) in the object `forecastData`, do the following:\". We even end it with a colon like we would in English!\n",
    "\n",
    "`i` becomes a **placeholder**, or a variable that will be temporarily assigned each time our loop goes to work. It will use each entry in `forecastData` one time, and while a given entry is being used, it will have the nickname `i`. That way, we can write all the code in our loop to describe what should happen to `i`. Then, in each pass of the loop, `i` takes the next value, and we follow the same set of instructions. In this case, we are just checking that our variables meet the established criteria, and then printing `True` if they do, or `False` if they don't.\n",
    "\n",
    "One awesome side effect of this version of loops is that we can easily update our loop if there is a mistake or change to the pattern, and we only have to do so ONE time! No copying and pasting, and less risk of accidental errors popping up in our code."
   ]
  },
  {
   "cell_type": "markdown",
   "metadata": {},
   "source": [
    "### List Comprehensions\n",
    "\n",
    "Another great way to write a for loop is to use **list comprehensions**, or lists containing loop syntax that can generate a list as a result of the loop! It is a compact and effective way to get your concept into list form:"
   ]
  },
  {
   "cell_type": "code",
   "execution_count": 1,
   "metadata": {},
   "outputs": [
    {
     "name": "stdout",
     "output_type": "stream",
     "text": [
      "[True, True, False, True, False]\n"
     ]
    }
   ],
   "source": [
    "forecastData = [49.5, 40.2, 53.7, 48.9, 51.0]\n",
    "\n",
    "# Use a list comprehension to evaluate the conditions from our old for loop\n",
    "meetsCondition = [(i > 40) & (i < 50) for i in forecastData]\n",
    "\n",
    "print(meetsCondition)"
   ]
  },
  {
   "cell_type": "markdown",
   "metadata": {},
   "source": [
    "In this list comprehension, we are able to use a *single line* to write out our previous `for` loop, and then we can simply print our results by printing out the list itself. List comprehensions can provide us a quick way to make all sorts of lists:"
   ]
  },
  {
   "cell_type": "code",
   "execution_count": 11,
   "metadata": {},
   "outputs": [
    {
     "name": "stdout",
     "output_type": "stream",
     "text": [
      "List from 0 to 9 [0, 1, 2, 3, 4, 5, 6, 7, 8, 9] \n",
      "\n",
      "List of multiples of 3 [0, 3, 6, 9, 12, 15, 18, 21, 24, 27, 30, 33, 36, 39, 42, 45, 48, 51, 54, 57, 60, 63, 66, 69, 72, 75, 78, 81, 84, 87, 90, 93, 96, 99]\n"
     ]
    }
   ],
   "source": [
    "# Make a list of integers from 0 to 9\n",
    "quickList = [i for i in range(10)]\n",
    "\n",
    "print(\"List from 0 to 9\", quickList, \"\\n\")\n",
    "\n",
    "# Make a list that prints all numbers divisible by 3\n",
    "\n",
    "anotherList = [i for i in range(100) if i%3==0]\n",
    "\n",
    "print(\"List of multiples of 3\", anotherList)"
   ]
  },
  {
   "cell_type": "markdown",
   "metadata": {},
   "source": [
    "As we can see from that second example, we can even include statements that allow us to use `if` statements and control which elements are included within our list comprehension.\n",
    "\n",
    "Comprehensions are frequently used to streamline code, and can make our work much easier to read if a for statement is simply intended to transform data based on a fixed pattern for all elements in an existing list or other iterable."
   ]
  },
  {
   "cell_type": "markdown",
   "metadata": {},
   "source": [
    "### While Loops\n",
    "\n",
    "Another kind of loop that is used in some contexts is a `while` loop. `while` loops differ significantly from `for` loops in their intended use: a `for` loop is designed to execute a determined number of iterations, whereas a `while` loop is designed to execute code repeatedly until a **stopping condition** is met. This means that we can allow a `while` loop to repeat indefinitely. \n",
    "\n",
    "A **stopping rule** is the logical condition that is checked before each iteration of a `while` loop. Whenever this condition is evaluated as `True`, then the loop is executed. When the condition is evaluated as `False`, the loop is terminated and the program advances to subsequent commands. This is where the term **infinite loop** comes from! If we forget to update our stopping condition within our `while` loop, then it will never stop, because we never tell it to stop. It is **really** important to remember this when we are writing `while` loops, or we will probably crash our program if not our computer.\n",
    "\n",
    "A fun example of a while loop would be writing a function to prompt the user to add numbers until the sum is above 42:"
   ]
  },
  {
   "cell_type": "code",
   "execution_count": 15,
   "metadata": {},
   "outputs": [
    {
     "name": "stdout",
     "output_type": "stream",
     "text": [
      "Please enter a number:30\n",
      "30.0\n",
      "Please enter a number:10\n",
      "40.0\n",
      "Please enter a number:2\n",
      "42.0\n",
      "Please enter a number:1\n",
      "43.0\n"
     ]
    }
   ],
   "source": [
    "total = 0\n",
    "while (total<=42):\n",
    "    total += float(input(\"Please enter a number:\"))\n",
    "    print(total)"
   ]
  },
  {
   "cell_type": "markdown",
   "metadata": {},
   "source": [
    "In reality, we would probably use `while` loops for significantly more difficult problems than our toy example. `while` loops are valuable in many cases where we are seeking convergence: dynamic programming, search models, and optimization problems in the context of statistical models."
   ]
  },
  {
   "cell_type": "markdown",
   "metadata": {},
   "source": [
    "## Functions\n",
    "\n",
    "Functions are an excellent addition to our ability to generate reusable code, and can save us significant effort when we want to recycle code from one problem to the next. In fact, there will come a time later in this course where we will do very little programming that does not involve functions on just about every line of our code. Functions are where computer programs really get their strength, especially when used together with "
   ]
  },
  {
   "cell_type": "code",
   "execution_count": null,
   "metadata": {},
   "outputs": [],
   "source": []
  }
 ],
 "metadata": {
  "kernelspec": {
   "display_name": "Python 3",
   "language": "python",
   "name": "python3"
  },
  "language_info": {
   "codemirror_mode": {
    "name": "ipython",
    "version": 3
   },
   "file_extension": ".py",
   "mimetype": "text/x-python",
   "name": "python",
   "nbconvert_exporter": "python",
   "pygments_lexer": "ipython3",
   "version": "3.7.3"
  }
 },
 "nbformat": 4,
 "nbformat_minor": 2
}
