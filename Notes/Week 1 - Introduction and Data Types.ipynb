{
 "cells": [
  {
   "cell_type": "markdown",
   "metadata": {},
   "source": [
    "# Course 1 - Tools For Data Analysis - Econ 8320"
   ]
  },
  {
   "cell_type": "markdown",
   "metadata": {},
   "source": [
    "## Week 1 - Introduction and Data Types"
   ]
  },
  {
   "cell_type": "markdown",
   "metadata": {},
   "source": [
    "### Introduction"
   ]
  },
  {
   "cell_type": "markdown",
   "metadata": {},
   "source": [
    "In teaching the course \"Tools for Data Analysis\" over the past two years, it has become apparent to me that it is insufficient to spend a single hour each week in class discussing critical programming concepts, and then asking students to complete complex assignments as a way to further explore programming as it relates to data analysis. These notebooks are my attempt at providing supplemental material to aid students in this effort. It is impossible to create more class time, but it IS possible for me to provide materials that may aid students in understanding the critical concepts of programming.\n",
    "\n",
    "One of my goals in writing this material is to prevent students from experiencing the exponential difficulty curve typically encountered in any programming text. While the early chapters of a book may assume little to know previous knowledge or experience in programming, there is inevitably a point at which students or readers are expected to make \"the leap\". Mysteriously, the author will assume that hundreds of hours of programming knowledge and experience have been heaped upon the head of the reader between two chapters, and the reader should now be completely proficient in all of the basic concepts of programming.\n",
    "\n",
    "My goal is to provide supplemental notes to this course that preclude this unfortunate event. I hope to do a thorough job of holding the student's hand throughout this effort. While students should be able to synthesize the material covered in order to create their own function, class, or script, they should not be expected to immediately understand topics that are being taught in a short 16 week course but could have easily occupied multiple semesters of instruction.\n",
    "\n",
    "What follows is my best attempt at clarifying what will be covered in class in greater depth in order to improve the student experience. Data analysis cannot be performed at any reasonable standard without a grasp of programming. While this could happen in any language, Python has become the standard in data analysis. Other languages have their advantages, but I believe that the clean syntax of Python and the ease with which unfamiliar code can be read are well worth the tradeoff.\n",
    "\n",
    "The materials in this course should also prepare a student to be capable of learning ANY programming language. The logic and thought process that underlies Python is the same as the logic and thought process that underlies writing good code in any language. I have just found it easier to introduce the concepts in Python than in other languages."
   ]
  },
  {
   "cell_type": "markdown",
   "metadata": {},
   "source": [
    "#### Setting up your environment"
   ]
  },
  {
   "cell_type": "markdown",
   "metadata": {},
   "source": [
    "In these notes, I will assume that the reader has access to an installation of the Anaconda distribution of Python. It is fantastically easy to install on any operating system, and provides an environment that is easy to replace if anything goes wrong. On Linux and macOS, replacing a broken Anaconda environment is as simple as dragging the Anaconda folder to the trash and reinstalling. I have done this more times than I care to admit, and it is a great failsafe for the new programmer.\n",
    "\n",
    "To install Anaconda, follow the directions on the [installation page](https://www.anaconda.com/distribution/#download-section) for your operating system. While I can't make any guarantees (I forget things, too!), I will do my best to make note on occasions when code may differ by operating system throughout these notes.\n",
    "\n",
    "**A note on operating system choice:** if you have the ability, I strongly recommend using either a distribution of Linux ([Linux Mint](https://linuxmint.com/download.php) is an EXCELLENT option for newcomers) or macOS (nearly all the benefits of Linux without the steep learning curve)"
   ]
  },
  {
   "cell_type": "code",
   "execution_count": null,
   "metadata": {},
   "outputs": [],
   "source": []
  }
 ],
 "metadata": {
  "kernelspec": {
   "display_name": "Python 3",
   "language": "python",
   "name": "python3"
  },
  "language_info": {
   "codemirror_mode": {
    "name": "ipython",
    "version": 3
   },
   "file_extension": ".py",
   "mimetype": "text/x-python",
   "name": "python",
   "nbconvert_exporter": "python",
   "pygments_lexer": "ipython3",
   "version": "3.7.2"
  }
 },
 "nbformat": 4,
 "nbformat_minor": 2
}
